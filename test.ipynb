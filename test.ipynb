{
 "cells": [
  {
   "cell_type": "code",
   "execution_count": 7,
   "metadata": {},
   "outputs": [],
   "source": [
    "%reload_ext rpy2.ipython"
   ]
  },
  {
   "cell_type": "raw",
   "metadata": {},
   "source": [
    "./github/\n",
    "├── CTCF\n",
    "│   ├── bound_30.fa\n",
    "│   ├── bound_500.fa\n",
    "│   ├── bound.fa\n",
    "│   ├── unbound_30.fa\n",
    "│   ├── unbound_500.fa\n",
    "│   └── unbound.fa\n",
    "├── examples\n",
    "│   ├── AnnotationHub_example.R\n",
    "│   ├── data_retrieval_example.R\n",
    "│   ├── ensemble_plots_example.R\n",
    "│   ├── house_example.R\n",
    "│   ├── house_price_testing.txt\n",
    "│   ├── house_price.txt\n",
    "│   ├── logistic_regression_example.R\n",
    "│   ├── MLR_example.R\n",
    "│   └── ploting_example.R\n",
    "├── gcPBM\n",
    "│   ├── Mad.txt\n",
    "│   ├── Mad.txt.fa\n",
    "│   ├── Max.txt\n",
    "│   ├── Max.txt.fa\n",
    "│   ├── Myc.txt\n",
    "│   ├── Myc.txt.fa\n",
    "│   └── readme\n",
    "├── homework\n",
    "│   ├── your_report.pdf\n",
    "│   └── your_script.R\n",
    "└── README.md"
   ]
  },
  {
   "cell_type": "markdown",
   "metadata": {},
   "source": [
    "4. Build Prediction models for *in vitro* data"
   ]
  },
  {
   "cell_type": "code",
   "execution_count": 4,
   "metadata": {},
   "outputs": [
    {
     "name": "stdout",
     "output_type": "stream",
     "text": [
      "==> ./github/gcPBM/Mad.txt <==\n",
      "GGGCATGAAAGCCACCTCGTGGTTTTGCAGCAAGTG\t8.76342807395385\n",
      "CGGGGAGGAGCCACCCACGCGCCACAGCAAGTCCTG\t7.90341156623703\n",
      "\n",
      "==> ./github/gcPBM/Mad.txt.fa <==\n",
      ">seq1\n",
      "GGGCATGAAAGCCACCTCGTGGTTTTGCAGCAAGTG\n",
      "\n",
      "==> ./github/gcPBM/Max.txt <==\n",
      "GAAGCCCTGGCGGGGCGCGTGCCCGCCGCCGCCGCC\t3.737828506\n",
      "TCCCGGGGCTAGAGGCATGTGGACTCAGGAGGATGA\t3.895753942\n",
      "\n",
      "==> ./github/gcPBM/Max.txt.fa <==\n",
      ">seq1\n",
      "GAAGCCCTGGCGGGGCGCGTGCCCGCCGCCGCCGCC\n",
      "\n",
      "==> ./github/gcPBM/Myc.txt <==\n",
      "ACCGACCGGCGCGGGCACGAGGCAATGGCGGCCGGG\t7.84737183615979\n",
      "AACAGCGCCACCGGCCTCGTGCACTTCTTCCACTGT\t8.02747653086048\n",
      "\n",
      "==> ./github/gcPBM/Myc.txt.fa <==\n",
      ">seq1\n",
      "ACCGACCGGCGCGGGCACGAGGCAATGGCGGCCGGG\n",
      "\n",
      "==> ./github/gcPBM/readme <==\n",
      "\n"
     ]
    }
   ],
   "source": [
    "!head -n 2 ./github/gcPBM/*"
   ]
  },
  {
   "cell_type": "code",
   "execution_count": 6,
   "metadata": {},
   "outputs": [
    {
     "name": "stdout",
     "output_type": "stream",
     "text": [
      "./github/gcPBM/Mad.txt.fa:7534\n",
      "./github/gcPBM/Max.txt.fa:8568\n",
      "./github/gcPBM/Myc.txt.fa:6926\n"
     ]
    }
   ],
   "source": [
    "!grep -c \"^>\" ./github/gcPBM/*.fa"
   ]
  },
  {
   "cell_type": "code",
   "execution_count": 9,
   "metadata": {},
   "outputs": [],
   "source": [
    "!grep \"Mg\" ./github/gcPBM/*.fa"
   ]
  },
  {
   "cell_type": "code",
   "execution_count": 8,
   "metadata": {},
   "outputs": [
    {
     "name": "stderr",
     "output_type": "stream",
     "text": [
      "/auto/rcf-proj3/klj/kim130/miniconda3/lib/python3.7/site-packages/rpy2/rinterface/__init__.py:146: RRuntimeWarning: Loading required package: GenomicRanges\n",
      "\n",
      "  warnings.warn(x, RRuntimeWarning)\n",
      "/auto/rcf-proj3/klj/kim130/miniconda3/lib/python3.7/site-packages/rpy2/rinterface/__init__.py:146: RRuntimeWarning: Loading required package: stats4\n",
      "\n",
      "  warnings.warn(x, RRuntimeWarning)\n",
      "/auto/rcf-proj3/klj/kim130/miniconda3/lib/python3.7/site-packages/rpy2/rinterface/__init__.py:146: RRuntimeWarning: Loading required package: BiocGenerics\n",
      "\n",
      "  warnings.warn(x, RRuntimeWarning)\n",
      "/auto/rcf-proj3/klj/kim130/miniconda3/lib/python3.7/site-packages/rpy2/rinterface/__init__.py:146: RRuntimeWarning: Loading required package: parallel\n",
      "\n",
      "  warnings.warn(x, RRuntimeWarning)\n",
      "/auto/rcf-proj3/klj/kim130/miniconda3/lib/python3.7/site-packages/rpy2/rinterface/__init__.py:146: RRuntimeWarning: \n",
      "Attaching package: ‘BiocGenerics’\n",
      "\n",
      "\n",
      "  warnings.warn(x, RRuntimeWarning)\n",
      "/auto/rcf-proj3/klj/kim130/miniconda3/lib/python3.7/site-packages/rpy2/rinterface/__init__.py:146: RRuntimeWarning: The following objects are masked from ‘package:parallel’:\n",
      "\n",
      "    clusterApply, clusterApplyLB, clusterCall, clusterEvalQ,\n",
      "    clusterExport, clusterMap, parApply, parCapply, parLapply,\n",
      "    parLapplyLB, parRapply, parSapply, parSapplyLB\n",
      "\n",
      "\n",
      "  warnings.warn(x, RRuntimeWarning)\n",
      "/auto/rcf-proj3/klj/kim130/miniconda3/lib/python3.7/site-packages/rpy2/rinterface/__init__.py:146: RRuntimeWarning: The following objects are masked from ‘package:stats’:\n",
      "\n",
      "    IQR, mad, sd, var, xtabs\n",
      "\n",
      "\n",
      "  warnings.warn(x, RRuntimeWarning)\n",
      "/auto/rcf-proj3/klj/kim130/miniconda3/lib/python3.7/site-packages/rpy2/rinterface/__init__.py:146: RRuntimeWarning: The following objects are masked from ‘package:base’:\n",
      "\n",
      "    anyDuplicated, append, as.data.frame, basename, cbind, colMeans,\n",
      "    colnames, colSums, dirname, do.call, duplicated, eval, evalq,\n",
      "    Filter, Find, get, grep, grepl, intersect, is.unsorted, lapply,\n",
      "    lengths, Map, mapply, match, mget, order, paste, pmax, pmax.int,\n",
      "    pmin, pmin.int, Position, rank, rbind, Reduce, rowMeans, rownames,\n",
      "    rowSums, sapply, setdiff, sort, table, tapply, union, unique,\n",
      "    unsplit, which, which.max, which.min\n",
      "\n",
      "\n",
      "  warnings.warn(x, RRuntimeWarning)\n",
      "/auto/rcf-proj3/klj/kim130/miniconda3/lib/python3.7/site-packages/rpy2/rinterface/__init__.py:146: RRuntimeWarning: Loading required package: S4Vectors\n",
      "\n",
      "  warnings.warn(x, RRuntimeWarning)\n"
     ]
    },
    {
     "name": "stdout",
     "output_type": "stream",
     "text": [
      "Cannot open the input file:  \n",
      "Cannot open the input file:  \n",
      "Cannot open the input file:  \n",
      "Cannot open the input file:  \n",
      "Cannot open the input file:\n",
      "Error in file(file, \"r\") : cannot open the connection\n"
     ]
    },
    {
     "name": "stderr",
     "output_type": "stream",
     "text": [
      "/auto/rcf-proj3/klj/kim130/miniconda3/lib/python3.7/site-packages/rpy2/rinterface/__init__.py:146: RRuntimeWarning: \n",
      "Attaching package: ‘S4Vectors’\n",
      "\n",
      "\n",
      "  warnings.warn(x, RRuntimeWarning)\n",
      "/auto/rcf-proj3/klj/kim130/miniconda3/lib/python3.7/site-packages/rpy2/rinterface/__init__.py:146: RRuntimeWarning: The following object is masked from ‘package:base’:\n",
      "\n",
      "    expand.grid\n",
      "\n",
      "\n",
      "  warnings.warn(x, RRuntimeWarning)\n",
      "/auto/rcf-proj3/klj/kim130/miniconda3/lib/python3.7/site-packages/rpy2/rinterface/__init__.py:146: RRuntimeWarning: Loading required package: IRanges\n",
      "\n",
      "  warnings.warn(x, RRuntimeWarning)\n",
      "/auto/rcf-proj3/klj/kim130/miniconda3/lib/python3.7/site-packages/rpy2/rinterface/__init__.py:146: RRuntimeWarning: Loading required package: GenomeInfoDb\n",
      "\n",
      "  warnings.warn(x, RRuntimeWarning)\n",
      "/auto/rcf-proj3/klj/kim130/miniconda3/lib/python3.7/site-packages/rpy2/rinterface/__init__.py:146: RRuntimeWarning: Parsing files......\n",
      "\n",
      "  warnings.warn(x, RRuntimeWarning)\n",
      "/auto/rcf-proj3/klj/kim130/miniconda3/lib/python3.7/site-packages/rpy2/rinterface/__init__.py:146: RRuntimeWarning: Error in file(file, \"r\") : cannot open the connection\n",
      "\n",
      "  warnings.warn(x, RRuntimeWarning)\n",
      "/auto/rcf-proj3/klj/kim130/miniconda3/lib/python3.7/site-packages/rpy2/rinterface/__init__.py:146: RRuntimeWarning: In addition: \n",
      "  warnings.warn(x, RRuntimeWarning)\n",
      "/auto/rcf-proj3/klj/kim130/miniconda3/lib/python3.7/site-packages/rpy2/rinterface/__init__.py:146: RRuntimeWarning: Warning message:\n",
      "\n",
      "  warnings.warn(x, RRuntimeWarning)\n",
      "/auto/rcf-proj3/klj/kim130/miniconda3/lib/python3.7/site-packages/rpy2/rinterface/__init__.py:146: RRuntimeWarning: In file(file, \"r\") :\n",
      "  warnings.warn(x, RRuntimeWarning)\n",
      "/auto/rcf-proj3/klj/kim130/miniconda3/lib/python3.7/site-packages/rpy2/rinterface/__init__.py:146: RRuntimeWarning:  cannot open file '.MGW': No such file or directory\n",
      "\n",
      "  warnings.warn(x, RRuntimeWarning)\n"
     ]
    }
   ],
   "source": [
    "%%R\n",
    "library(\"DNAshapeR\")\n",
    "library(\"caret\")\n",
    "\n",
    "\n",
    "pred <- getShape(\"/auto/rcf-proj3/klj/kim130/BISC481/gcPBM/Mad.txt.fa\")\n",
    "getShape<-(\"/auto/rcf-proj3/klj/kim130/BISC481/gcPBM/Myc.txt.fa\")\n",
    "getShape<-(\"/auto/rcf-proj3/klj/kim130/BISC481/gcPBM/Max.txt.fa\")"
   ]
  }
 ],
 "metadata": {
  "kernelspec": {
   "display_name": "Python 3",
   "language": "python",
   "name": "python3"
  },
  "language_info": {
   "codemirror_mode": {
    "name": "ipython",
    "version": 3
   },
   "file_extension": ".py",
   "mimetype": "text/x-python",
   "name": "python",
   "nbconvert_exporter": "python",
   "pygments_lexer": "ipython3",
   "version": "3.7.1"
  }
 },
 "nbformat": 4,
 "nbformat_minor": 2
}
